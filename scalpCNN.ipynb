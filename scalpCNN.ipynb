{
 "cells": [
  {
   "cell_type": "code",
   "execution_count": 11,
   "metadata": {},
   "outputs": [],
   "source": [
    "import os\n",
    "import numpy as np\n",
    "from tensorflow.keras.models import Sequential\n",
    "from tensorflow.keras.layers import Conv2D, MaxPooling2D, Dropout, Flatten, Dense\n",
    "from sklearn.model_selection import train_test_split\n",
    "from tensorflow.keras.utils import to_categorical"
   ]
  },
  {
   "cell_type": "code",
   "execution_count": 10,
   "metadata": {},
   "outputs": [],
   "source": [
    "def load_images_from_folder(folder, img_size) :\n",
    "    images = []\n",
    "    labels = []\n",
    "    label_names = os.listdir(folder)\n",
    "    for label, class_name in enumerate(label_names) :\n",
    "        class_folder = os.path.join(folder, class_name)\n",
    "        for filename in os.listdir(class_folder) :\n",
    "            img_path = os.path.join(class_folder, filename)\n",
    "            img = Image.open(img_path).convert(\"RGB\").resize(img_size)\n",
    "            images.append(np.array(img) / 255.0)\n",
    "            labels.append(label)\n",
    "    return np.array(images), np.array(labels), label_names\n",
    "\n",
    "def create_cnn_model(input_shape, num_classes) :\n",
    "    model = Sequential()\n",
    "    model.add(Conv2D(32, kernel_size = (3, 3), activation = \"relu\", input_shape = input_shape))\n",
    "    model.add(MaxPooling2D(pool_size = (2, 2)))\n",
    "    model.add(Dropout(0.25))\n",
    "    model.add(Conv2D(64, kernel_size = (3, 3), activation = \"relu\"))\n",
    "    model.add(MaxPooling2D(pool_size = (2, 2)))\n",
    "    model.add(Dropout(0.25))\n",
    "    model.add(Conv2D(128, kernel_size = (3, 3), activation = \"relu\"))\n",
    "    model.add(MaxPooling2D(pool_size = (2, 2)))\n",
    "    model.add(Dropout(0.4))\n",
    "    model.add(Flatten())\n",
    "    model.add(Dense(128, activation = \"softmax\"))\n",
    "    model.compile(optimizer = \"adam\",\n",
    "                  loss = \"categorical_crossentropy\",\n",
    "                  metrics = [\"accuracy\"])\n",
    "    return model"
   ]
  },
  {
   "cell_type": "code",
   "execution_count": 12,
   "metadata": {},
   "outputs": [
    {
     "ename": "TypeError",
     "evalue": "load_images_from_folder() missing 1 required positional argument: 'img_size'",
     "output_type": "error",
     "traceback": [
      "\u001b[1;31m---------------------------------------------------------------------------\u001b[0m",
      "\u001b[1;31mTypeError\u001b[0m                                 Traceback (most recent call last)",
      "Cell \u001b[1;32mIn[12], line 2\u001b[0m\n\u001b[0;32m      1\u001b[0m data_folder \u001b[38;5;241m=\u001b[39m \u001b[38;5;124m\"\u001b[39m\u001b[38;5;124m\"\u001b[39m\n\u001b[1;32m----> 2\u001b[0m images, labels, label_names \u001b[38;5;241m=\u001b[39m \u001b[43mload_images_from_folder\u001b[49m\u001b[43m(\u001b[49m\u001b[43mdata_folder\u001b[49m\u001b[43m)\u001b[49m\n\u001b[0;32m      4\u001b[0m x_train, x_test, y_train, y_test \u001b[38;5;241m=\u001b[39m train_test_split(images, labels, test_size \u001b[38;5;241m=\u001b[39m \u001b[38;5;241m0.2\u001b[39m, random_state \u001b[38;5;241m=\u001b[39m \u001b[38;5;241m42\u001b[39m)\n\u001b[0;32m      6\u001b[0m y_train \u001b[38;5;241m=\u001b[39m to_categorical(y_train, num_classes \u001b[38;5;241m=\u001b[39m \u001b[38;5;28mlen\u001b[39m(label_names))\n",
      "\u001b[1;31mTypeError\u001b[0m: load_images_from_folder() missing 1 required positional argument: 'img_size'"
     ]
    }
   ],
   "source": [
    "data_folder = \"\"\n",
    "images, labels, label_names = load_images_from_folder(data_folder)\n",
    "\n",
    "x_train, x_test, y_train, y_test = train_test_split(images, labels, test_size = 0.2, random_state = 42)\n",
    "\n",
    "y_train = to_categorical(y_train, num_classes = len(label_names))\n",
    "y_test = to_categorical(y_test, num_classes = len(label_names))\n",
    "\n",
    "input_shape = x_train.shape[1:]\n",
    "num_classes = len(label_names)\n",
    "\n",
    "cnn_model = create_cnn_model(input_shape, num_classes)\n",
    "\n",
    "cnn_model.fit(x_train, y_train, epochs = 20, batch_size = 32, validation_split = 0.2)\n",
    "\n",
    "loss, accuracy = cnn_model.evaluate(x_test, y_test)\n",
    "print(f\"Test Accuracy : {accuracy:.2f}\")"
   ]
  },
  {
   "cell_type": "code",
   "execution_count": 13,
   "metadata": {},
   "outputs": [],
   "source": [
    "def predict_image(model, image_path, label_names, img_size = (128, 128)) :\n",
    "    img = Image.open(image_path).convert(\"RGB\").resize(img_size)\n",
    "    img_array = np.array(img) / 255.0\n",
    "    img_array = np.expand_dims(img_array, axis = 0)\n",
    "    predictions = model.predict(img_array)\n",
    "    predicted_label = label_names[np.argmax(predictions)]\n",
    "    confidence = np.max(predictions)\n",
    "    return predicted_label, confidence"
   ]
  },
  {
   "cell_type": "code",
   "execution_count": 14,
   "metadata": {},
   "outputs": [
    {
     "ename": "NameError",
     "evalue": "name 'cnn_model' is not defined",
     "output_type": "error",
     "traceback": [
      "\u001b[1;31m---------------------------------------------------------------------------\u001b[0m",
      "\u001b[1;31mNameError\u001b[0m                                 Traceback (most recent call last)",
      "Cell \u001b[1;32mIn[14], line 2\u001b[0m\n\u001b[0;32m      1\u001b[0m test_image_path \u001b[38;5;241m=\u001b[39m \u001b[38;5;124m\"\u001b[39m\u001b[38;5;124m\"\u001b[39m\n\u001b[1;32m----> 2\u001b[0m predicted_label, confidence \u001b[38;5;241m=\u001b[39m predict_image(\u001b[43mcnn_model\u001b[49m, test_image_path, label_names)\n\u001b[0;32m      3\u001b[0m \u001b[38;5;28mprint\u001b[39m(\u001b[38;5;124mf\u001b[39m\u001b[38;5;124m\"\u001b[39m\u001b[38;5;124mPredicted Label : \u001b[39m\u001b[38;5;132;01m{\u001b[39;00mpredicted_label\u001b[38;5;132;01m}\u001b[39;00m\u001b[38;5;124m, Confidence : \u001b[39m\u001b[38;5;132;01m{\u001b[39;00mconfidence\u001b[38;5;132;01m:\u001b[39;00m\u001b[38;5;124m.2f\u001b[39m\u001b[38;5;132;01m}\u001b[39;00m\u001b[38;5;124m\"\u001b[39m)\n",
      "\u001b[1;31mNameError\u001b[0m: name 'cnn_model' is not defined"
     ]
    }
   ],
   "source": [
    "test_image_path = \"\"\n",
    "predicted_label, confidence = predict_image(cnn_model, test_image_path, label_names)\n",
    "print(f\"Predicted Label : {predicted_label}, Confidence : {confidence:.2f}\")"
   ]
  },
  {
   "cell_type": "code",
   "execution_count": null,
   "metadata": {},
   "outputs": [],
   "source": []
  }
 ],
 "metadata": {
  "kernelspec": {
   "display_name": "base",
   "language": "python",
   "name": "python3"
  },
  "language_info": {
   "codemirror_mode": {
    "name": "ipython",
    "version": 3
   },
   "file_extension": ".py",
   "mimetype": "text/x-python",
   "name": "python",
   "nbconvert_exporter": "python",
   "pygments_lexer": "ipython3",
   "version": "3.12.7"
  }
 },
 "nbformat": 4,
 "nbformat_minor": 2
}
